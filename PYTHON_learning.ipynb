{
  "nbformat": 4,
  "nbformat_minor": 0,
  "metadata": {
    "colab": {
      "private_outputs": true,
      "provenance": [],
      "gpuType": "T4",
      "authorship_tag": "ABX9TyObikJUly03Yalho4CDlAGp",
      "include_colab_link": true
    },
    "kernelspec": {
      "name": "python3",
      "display_name": "Python 3"
    },
    "language_info": {
      "name": "python"
    },
    "accelerator": "GPU"
  },
  "cells": [
    {
      "cell_type": "markdown",
      "metadata": {
        "id": "view-in-github",
        "colab_type": "text"
      },
      "source": [
        "<a href=\"https://colab.research.google.com/github/Mhd-yousefi-1995/PYthon-learning/blob/main/PYTHON_learning.ipynb\" target=\"_parent\"><img src=\"https://colab.research.google.com/assets/colab-badge.svg\" alt=\"Open In Colab\"/></a>"
      ]
    },
    {
      "cell_type": "markdown",
      "source": [
        "**let's start**"
      ],
      "metadata": {
        "id": "IbRVBnfLA-CV"
      }
    },
    {
      "cell_type": "markdown",
      "source": [
        "Variables and Data Types"
      ],
      "metadata": {
        "id": "HcBILqZeNfov"
      }
    },
    {
      "cell_type": "code",
      "source": [
        "# Integer variable\n",
        "age = 25\n",
        "\n",
        "# Float variable\n",
        "price = 9.99\n",
        "\n",
        "# String variable\n",
        "name = \"John Doe\"\n",
        "\n",
        "# Boolean variable\n",
        "is_valid = True"
      ],
      "metadata": {
        "id": "sbJckb1POLYH"
      },
      "execution_count": null,
      "outputs": []
    },
    {
      "cell_type": "code",
      "source": [
        "# Arithmetic operators\n",
        "num1 = 10\n",
        "num2 = 3\n",
        "\n",
        "addition = num1 + num2  # 10 + 3 = 13\n",
        "subtraction = num1 - num2  # 10 - 3 = 7\n",
        "multiplication = num1 * num2  # 10 * 3 = 30\n",
        "division = num1 / num2  # 10 / 3 = 3.3333 (float division)\n",
        "modulo = num1 % num2  # 10 % 3 = 1 (remainder after division)\n",
        "exponentiation = num1 ** num2  # 10^3 = 1000"
      ],
      "metadata": {
        "id": "bLEDNAF_OWPX"
      },
      "execution_count": null,
      "outputs": []
    },
    {
      "cell_type": "code",
      "source": [
        "# Comparison operators\n",
        "age = 25\n",
        "\n",
        "is_adult = age >= 18  # True (25 is greater than or equal to 18)\n",
        "is_teenager = age < 20  # False (25 is not less than 20)\n",
        "is_equal = age == 25  # True (age is equal to 25)\n",
        "is_not_equal = age != 30  # True (age is not equal to 30)"
      ],
      "metadata": {
        "id": "MeXpy7LQPSb3"
      },
      "execution_count": null,
      "outputs": []
    },
    {
      "cell_type": "code",
      "source": [
        "# Logical operators\n",
        "is_valid = True\n",
        "is_member = False\n",
        "\n",
        "result1 = is_valid and is_member  # False (both conditions are not True)\n",
        "result2 = is_valid or is_member  # True (at least one condition is True)\n",
        "result3 = not is_valid  # False (negation of is_valid)"
      ],
      "metadata": {
        "id": "XcCXEEqoPXg_"
      },
      "execution_count": null,
      "outputs": []
    },
    {
      "cell_type": "markdown",
      "source": [
        "Control Flow"
      ],
      "metadata": {
        "id": "fKGhl2oxVCgj"
      }
    },
    {
      "cell_type": "code",
      "source": [
        "# Conditional statements\n",
        "age = 18\n",
        "\n",
        "if age >= 18:\n",
        "    print(\"You are an adult.\")\n",
        "elif age >= 13:\n",
        "    print(\"You are a teenager.\")\n",
        "else:\n",
        "    print(\"You are a child.\")"
      ],
      "metadata": {
        "id": "RcH1eRjhVEH3"
      },
      "execution_count": null,
      "outputs": []
    },
    {
      "cell_type": "code",
      "source": [
        "# For loop\n",
        "fruits = [\"apple\", \"banana\", \"cherry\"]\n",
        "\n",
        "for fruit in fruits:\n",
        "    print(fruit)\n",
        "\n",
        "# While loop\n",
        "count = 0\n",
        "\n",
        "while count < 5:\n",
        "    print(\"Count:\", count)\n",
        "    count += 1"
      ],
      "metadata": {
        "id": "B0P3445_VKor"
      },
      "execution_count": null,
      "outputs": []
    },
    {
      "cell_type": "markdown",
      "source": [
        "Functions"
      ],
      "metadata": {
        "id": "4iWM8MsvVPz3"
      }
    },
    {
      "cell_type": "code",
      "source": [
        "# Function definition\n",
        "def greet(name):\n",
        "    print(\"Hello, \" + name + \"!\")\n",
        "\n",
        "# Function call\n",
        "greet(\"John\")"
      ],
      "metadata": {
        "id": "6rMcNjnoVQqg"
      },
      "execution_count": null,
      "outputs": []
    },
    {
      "cell_type": "code",
      "source": [
        "# Function definition with return value\n",
        "def add_numbers(num1, num2):\n",
        "    sum = num1 + num2\n",
        "    return sum\n",
        "\n",
        "# Function call\n",
        "result = add_numbers(10, 5)\n",
        "print(\"Sum:\", result)"
      ],
      "metadata": {
        "id": "RQuG2yMKVV3A"
      },
      "execution_count": null,
      "outputs": []
    },
    {
      "cell_type": "markdown",
      "source": [
        "Classes and Object-Oriented Programming (OOP)"
      ],
      "metadata": {
        "id": "eQJux01VVZiX"
      }
    },
    {
      "cell_type": "code",
      "source": [],
      "metadata": {
        "id": "CB9NOYM5Va3Y"
      },
      "execution_count": null,
      "outputs": []
    },
    {
      "cell_type": "code",
      "source": [
        "# Class definition\n",
        "class Circle:\n",
        "    def __init__(self, radius):\n",
        "        self.radius = radius\n",
        "\n",
        "    def calculate_area(self):\n",
        "        area = 3.14 * self.radius**2\n",
        "        return area\n",
        "\n",
        "# Creating objects (instances)\n",
        "circle1 = Circle(5)\n",
        "circle2 = Circle(3)\n",
        "\n",
        "# Accessing attributes and methods\n",
        "print(\"Circle 1 radius:\", circle1.radius)\n",
        "print(\"Circle 2 radius:\", circle2.radius)\n",
        "\n",
        "area1 = circle1.calculate_area()\n",
        "area2 = circle2.calculate_area()\n",
        "\n",
        "print(\"Circle 1 area:\", area1)\n",
        "print(\"Circle 2 area:\", area2)"
      ],
      "metadata": {
        "id": "06S-RN-WVdGb"
      },
      "execution_count": null,
      "outputs": []
    },
    {
      "cell_type": "markdown",
      "source": [
        "Data Structures"
      ],
      "metadata": {
        "id": "emV9pu-jVgSn"
      }
    },
    {
      "cell_type": "code",
      "source": [
        "# List example\n",
        "fruits = [\"apple\", \"banana\", \"cherry\"]\n",
        "print(fruits)  # Output: ['apple', 'banana', 'cherry']\n",
        "\n",
        "# Accessing elements\n",
        "first_fruit = fruits[0]\n",
        "print(first_fruit)  # Output: 'apple'\n",
        "\n",
        "# Modifying elements\n",
        "fruits[1] = \"pear\"\n",
        "print(fruits)  # Output: ['apple', 'pear', 'cherry']"
      ],
      "metadata": {
        "id": "Ajcms700VhHe"
      },
      "execution_count": null,
      "outputs": []
    },
    {
      "cell_type": "code",
      "source": [
        "# Tuple example\n",
        "person = (\"John\", 25, \"USA\")\n",
        "print(person)  # Output: ('John', 25, 'USA')\n",
        "\n",
        "# Accessing elements\n",
        "name = person[0]\n",
        "print(name)  # Output: 'John'"
      ],
      "metadata": {
        "id": "2la8bXWFVlBH"
      },
      "execution_count": null,
      "outputs": []
    },
    {
      "cell_type": "code",
      "source": [
        "# Dictionary example\n",
        "student = {\n",
        "    \"name\": \"John\",\n",
        "    \"age\": 20,\n",
        "    \"grade\": \"A\"\n",
        "}\n",
        "print(student)  # Output: {'name': 'John', 'age': 20, 'grade': 'A'}\n",
        "\n",
        "# Accessing elements\n",
        "age = student[\"age\"]\n",
        "print(age)  # Output: 20\n",
        "\n",
        "# Modifying elements\n",
        "student[\"grade\"] = \"B\"\n",
        "print(student)  # Output: {'name': 'John', 'age': 20, 'grade': 'B'}"
      ],
      "metadata": {
        "id": "6diLwclWVn3X"
      },
      "execution_count": null,
      "outputs": []
    },
    {
      "cell_type": "code",
      "source": [
        "# Set example\n",
        "numbers = {1, 2, 3, 4, 5}\n",
        "print(numbers)  # Output: {1, 2, 3, 4, 5}\n",
        "\n",
        "# Adding elements\n",
        "numbers.add(6)\n",
        "print(numbers)  # Output: {1, 2, 3, 4, 5, 6}"
      ],
      "metadata": {
        "id": "AwfaV_jfVuzo"
      },
      "execution_count": null,
      "outputs": []
    },
    {
      "cell_type": "markdown",
      "source": [
        "Modules and Packages"
      ],
      "metadata": {
        "id": "tQc-7PdkVxeY"
      }
    },
    {
      "cell_type": "code",
      "source": [
        "# math_operations.py\n",
        "def add(a, b):\n",
        "    return a + b\n",
        "\n",
        "def subtract(a, b):\n",
        "    return a - b"
      ],
      "metadata": {
        "id": "vD-pOeJKV7Hn"
      },
      "execution_count": null,
      "outputs": []
    },
    {
      "cell_type": "code",
      "source": [
        "# main.py\n",
        "import math_operations\n",
        "result = math_operations.add(5, 3)\n",
        "print(\"Result:\", result)"
      ],
      "metadata": {
        "id": "ijbxtT2yV-Nn"
      },
      "execution_count": null,
      "outputs": []
    },
    {
      "cell_type": "markdown",
      "source": [
        "Exception Handling"
      ],
      "metadata": {
        "id": "w7z9LuVTWByH"
      }
    },
    {
      "cell_type": "code",
      "source": [
        "try:\n",
        "    # Code that may raise an exception\n",
        "    x = 10 / 0\n",
        "except ZeroDivisionError:\n",
        "    # Handling the specific exception\n",
        "    print(\"Error: Division by zero\")"
      ],
      "metadata": {
        "id": "fFgD0s4BWEMd"
      },
      "execution_count": null,
      "outputs": []
    },
    {
      "cell_type": "code",
      "source": [
        "try:\n",
        "    # Code that may raise an exception\n",
        "    x = 10 / 0\n",
        "except:\n",
        "    # Handling any type of exception\n",
        "    print(\"An error occurred\")"
      ],
      "metadata": {
        "id": "mwodgW3LWKVX"
      },
      "execution_count": null,
      "outputs": []
    },
    {
      "cell_type": "code",
      "source": [
        "try:\n",
        "    # Code that may raise an exception\n",
        "    file = open(\"nonexistent.txt\", \"r\")\n",
        "except FileNotFoundError:\n",
        "    # Handling specific exception\n",
        "    print(\"Error: File not found\")\n",
        "except PermissionError:\n",
        "    # Handling specific exception\n",
        "    print(\"Error: Permission denied\")\n",
        "except:\n",
        "    # Handling any other exception\n",
        "    print(\"An error occurred\")"
      ],
      "metadata": {
        "id": "V0QxL1sKWMwJ"
      },
      "execution_count": null,
      "outputs": []
    }
  ]
}